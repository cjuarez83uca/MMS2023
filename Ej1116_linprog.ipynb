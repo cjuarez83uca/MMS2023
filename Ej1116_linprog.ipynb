{
 "cells": [
  {
   "cell_type": "markdown",
   "metadata": {},
   "source": []
  },
  {
   "cell_type": "code",
   "execution_count": 3,
   "metadata": {},
   "outputs": [],
   "source": [
    "import numpy as np\n",
    "from scipy.optimize import linprog\n",
    "\n",
    "c =[-150, -175]\n",
    "\n",
    "A = [[7, 11],[10, 8]]\n",
    "\n",
    "b = [140, 120]\n",
    "\n",
    "x1_lim = (0,9)\n",
    "x2_lim = (0,6)\n",
    "\n",
    "res = linprog(c,A_ub = A, b_ub = b, bounds = [x1_lim,x2_lim])\n"
   ]
  },
  {
   "cell_type": "code",
   "execution_count": 4,
   "metadata": {},
   "outputs": [
    {
     "data": {
      "text/plain": [
       "        message: Optimization terminated successfully. (HiGHS Status 7: Optimal)\n",
       "        success: True\n",
       "         status: 0\n",
       "            fun: -2130.0\n",
       "              x: [ 7.200e+00  6.000e+00]\n",
       "            nit: 1\n",
       "          lower:  residual: [ 7.200e+00  6.000e+00]\n",
       "                 marginals: [ 0.000e+00  0.000e+00]\n",
       "          upper:  residual: [ 1.800e+00  0.000e+00]\n",
       "                 marginals: [ 0.000e+00 -5.500e+01]\n",
       "          eqlin:  residual: []\n",
       "                 marginals: []\n",
       "        ineqlin:  residual: [ 2.360e+01  0.000e+00]\n",
       "                 marginals: [-0.000e+00 -1.500e+01]\n",
       " mip_node_count: 0\n",
       " mip_dual_bound: 0.0\n",
       "        mip_gap: 0.0"
      ]
     },
     "execution_count": 4,
     "metadata": {},
     "output_type": "execute_result"
    }
   ],
   "source": [
    "res"
   ]
  }
 ],
 "metadata": {
  "kernelspec": {
   "display_name": "Python 3",
   "language": "python",
   "name": "python3"
  },
  "language_info": {
   "codemirror_mode": {
    "name": "ipython",
    "version": 3
   },
   "file_extension": ".py",
   "mimetype": "text/x-python",
   "name": "python",
   "nbconvert_exporter": "python",
   "pygments_lexer": "ipython3",
   "version": "3.11.4"
  }
 },
 "nbformat": 4,
 "nbformat_minor": 2
}
