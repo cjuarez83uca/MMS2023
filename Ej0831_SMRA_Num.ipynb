{
 "cells": [
  {
   "cell_type": "code",
   "execution_count": 1,
   "metadata": {},
   "outputs": [
    {
     "name": "stdout",
     "output_type": "stream",
     "text": [
      "-0.3819660112501051 -2.618033988749895\n"
     ]
    }
   ],
   "source": [
    "# solucion del sistema masa resorte amortiguador con metodos numericos\n",
    "# importar librerias\n",
    "\n",
    "import numpy as np\n",
    "import matplotlib.pyplot as plt\n",
    "\n",
    "# constantes del sistema\n",
    "m = 1\n",
    "c = 3\n",
    "k = 1\n",
    "\n",
    "# discretiazacion del tiempo\n",
    "p1 = -c/(2*m)+(1*pow(c/(2*m),2)-k/m)**0.5\n",
    "p2 = -c/(2*m)-(1*pow(c/(2*m),2)-k/m)**0.5\n",
    "\n",
    "print(p1,p2)\n",
    "\n"
   ]
  },
  {
   "cell_type": "code",
   "execution_count": 7,
   "metadata": {},
   "outputs": [
    {
     "name": "stdout",
     "output_type": "stream",
     "text": [
      "-0.38196601125010515\n",
      "-2.6180339887498953\n"
     ]
    }
   ],
   "source": [
    "tau1= 1/p2\n",
    "print(tau1) \n",
    "\n",
    "tau2 = 1/p1\n",
    "print(tau2)"
   ]
  },
  {
   "cell_type": "code",
   "execution_count": null,
   "metadata": {},
   "outputs": [],
   "source": [
    "# paso de tiempo\n",
    "h = 0.1\n",
    "tfin = 15"
   ]
  }
 ],
 "metadata": {
  "kernelspec": {
   "display_name": "Python 3",
   "language": "python",
   "name": "python3"
  },
  "language_info": {
   "codemirror_mode": {
    "name": "ipython",
    "version": 3
   },
   "file_extension": ".py",
   "mimetype": "text/x-python",
   "name": "python",
   "nbconvert_exporter": "python",
   "pygments_lexer": "ipython3",
   "version": "3.11.4"
  },
  "orig_nbformat": 4
 },
 "nbformat": 4,
 "nbformat_minor": 2
}
