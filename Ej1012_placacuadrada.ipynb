{
 "cells": [
  {
   "cell_type": "code",
   "execution_count": 143,
   "metadata": {},
   "outputs": [],
   "source": [
    "import numpy as np\n",
    "import matplotlib.pyplot as plt\n"
   ]
  },
  {
   "cell_type": "code",
   "execution_count": 144,
   "metadata": {},
   "outputs": [],
   "source": [
    "# dimensiones de la placa\n",
    "Lx = 10; Ly = 10\n",
    "dx = 2.5; dy = dx\n",
    "x = np.arange(0,Lx+dx,dx)\n",
    "y = np.arange(0,Ly+dy,dy)\n",
    "\n",
    "T = np.zeros([np.size(y),np.size(x)])\n",
    "Tviejo = np.zeros([np.size(y),np.size(x)])\n",
    "# Condiciones de frontera de Dirichlet\n",
    "T[0] = 50\n",
    "T[-1] = 100\n",
    "for j in np.arange(0,np.size(y)):\n",
    "    T[j][0]= 25\n",
    "    T[j][-1] = 75\n"
   ]
  },
  {
   "cell_type": "code",
   "execution_count": 159,
   "metadata": {},
   "outputs": [],
   "source": [
    "Tviejo[:][:] = T[:][:]\n",
    "for j in np.arange(1,np.size(y)-1):\n",
    "    for i in np.arange(1,np.size(x)-1):\n",
    "        T[j][i] = (T[j][i+1]+T[j][i-1]+T[j+1][i]+T[j-1][i])/4\n",
    "T\n",
    "E = np.abs(T - Tviejo)"
   ]
  },
  {
   "cell_type": "code",
   "execution_count": 160,
   "metadata": {},
   "outputs": [
    {
     "data": {
      "text/plain": [
       "array([[0.        , 0.        , 0.        , 0.        , 0.        ],\n",
       "       [0.        , 0.51797777, 0.51858835, 0.25939681, 0.        ],\n",
       "       [0.        , 0.51859878, 0.51879883, 0.25942442, 0.        ],\n",
       "       [0.        , 0.25940202, 0.25942572, 0.12971254, 0.        ],\n",
       "       [0.        , 0.        , 0.        , 0.        , 0.        ]])"
      ]
     },
     "execution_count": 160,
     "metadata": {},
     "output_type": "execute_result"
    }
   ],
   "source": [
    "E"
   ]
  },
  {
   "cell_type": "code",
   "execution_count": 161,
   "metadata": {},
   "outputs": [
    {
     "data": {
      "text/plain": [
       "0.518798828125"
      ]
     },
     "execution_count": 161,
     "metadata": {},
     "output_type": "execute_result"
    }
   ],
   "source": [
    "E.max()"
   ]
  }
 ],
 "metadata": {
  "kernelspec": {
   "display_name": "Python 3",
   "language": "python",
   "name": "python3"
  },
  "language_info": {
   "codemirror_mode": {
    "name": "ipython",
    "version": 3
   },
   "file_extension": ".py",
   "mimetype": "text/x-python",
   "name": "python",
   "nbconvert_exporter": "python",
   "pygments_lexer": "ipython3",
   "version": "3.11.4"
  }
 },
 "nbformat": 4,
 "nbformat_minor": 2
}
