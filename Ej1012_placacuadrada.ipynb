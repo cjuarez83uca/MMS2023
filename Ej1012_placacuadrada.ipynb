{
 "cells": [
  {
   "cell_type": "code",
   "execution_count": 168,
   "metadata": {},
   "outputs": [],
   "source": [
    "import numpy as np\n",
    "import matplotlib.pyplot as plt\n"
   ]
  },
  {
   "cell_type": "code",
   "execution_count": 169,
   "metadata": {},
   "outputs": [],
   "source": [
    "# dimensiones de la placa\n",
    "Lx = 10; Ly = 10\n",
    "dx = 2.5; dy = dx\n",
    "x = np.arange(0,Lx+dx,dx)\n",
    "y = np.arange(0,Ly+dy,dy)\n",
    "\n",
    "T = np.zeros([np.size(y),np.size(x)])\n",
    "Tviejo = np.zeros([np.size(y),np.size(x)])\n",
    "# Condiciones de frontera de Dirichlet\n",
    "T[0] = 50\n",
    "T[-1] = 100\n",
    "for j in np.arange(0,np.size(y)):\n",
    "    T[j][0]= 25\n",
    "    T[j][-1] = 75\n"
   ]
  },
  {
   "cell_type": "code",
   "execution_count": 174,
   "metadata": {},
   "outputs": [],
   "source": [
    "error = 1\n",
    "while error>0.01:\n",
    "    Tviejo[:][:] = T[:][:]\n",
    "    for j in np.arange(1,np.size(y)-1):\n",
    "        for i in np.arange(1,np.size(x)-1):\n",
    "            T[j][i] = (T[j][i+1]+T[j][i-1]+T[j+1][i]+T[j-1][i])/4\n",
    "    T\n",
    "    E = np.abs((T - Tviejo)/T)\n",
    "    error = E.max()\n"
   ]
  },
  {
   "cell_type": "code",
   "execution_count": 175,
   "metadata": {},
   "outputs": [
    {
     "data": {
      "text/plain": [
       "array([[ 25.        ,  50.        ,  50.        ,  50.        ,\n",
       "         75.        ],\n",
       "       [ 25.        ,  44.38347239,  54.65131863,  62.37030034,\n",
       "         75.        ],\n",
       "       [ 25.        ,  48.40131844,  62.24060059,  69.95958556,\n",
       "         75.        ],\n",
       "       [ 25.        ,  62.37030025,  76.20958554,  80.29229277,\n",
       "         75.        ],\n",
       "       [ 25.        , 100.        , 100.        , 100.        ,\n",
       "         75.        ]])"
      ]
     },
     "execution_count": 175,
     "metadata": {},
     "output_type": "execute_result"
    }
   ],
   "source": [
    "T"
   ]
  },
  {
   "cell_type": "code",
   "execution_count": 164,
   "metadata": {},
   "outputs": [
    {
     "data": {
      "text/plain": [
       "array([[ 25.        ,  50.        ,  50.        ,  50.        ,\n",
       "         75.        ],\n",
       "       [ 25.        ,  44.38347239,  54.65131863,  62.37030034,\n",
       "         75.        ],\n",
       "       [ 25.        ,  48.40131844,  62.24060059,  69.95958556,\n",
       "         75.        ],\n",
       "       [ 25.        ,  62.37030025,  76.20958554,  80.29229277,\n",
       "         75.        ],\n",
       "       [ 25.        , 100.        , 100.        , 100.        ,\n",
       "         75.        ]])"
      ]
     },
     "execution_count": 164,
     "metadata": {},
     "output_type": "execute_result"
    }
   ],
   "source": [
    "T"
   ]
  }
 ],
 "metadata": {
  "kernelspec": {
   "display_name": "Python 3",
   "language": "python",
   "name": "python3"
  },
  "language_info": {
   "codemirror_mode": {
    "name": "ipython",
    "version": 3
   },
   "file_extension": ".py",
   "mimetype": "text/x-python",
   "name": "python",
   "nbconvert_exporter": "python",
   "pygments_lexer": "ipython3",
   "version": "3.11.4"
  }
 },
 "nbformat": 4,
 "nbformat_minor": 2
}
