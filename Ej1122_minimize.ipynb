{
 "cells": [
  {
   "cell_type": "code",
   "execution_count": 6,
   "metadata": {},
   "outputs": [
    {
     "name": "stderr",
     "output_type": "stream",
     "text": [
      "c:\\Users\\cjuar\\AppData\\Local\\Programs\\Python\\Python311\\Lib\\site-packages\\scipy\\optimize\\_constraints.py:537: OptimizeWarning: Equality and inequality constraints are specified in the same element of the constraint list. For efficient use with this method, equality and inequality constraints should be specified in separate elements of the constraint list. \n",
      "  warn(\"Equality and inequality constraints are specified in the same \"\n"
     ]
    }
   ],
   "source": [
    "from scipy import optimize\n",
    "\n",
    "# funcion objetivo\n",
    "def f(p):\n",
    "    p1 = p[0]\n",
    "    p2 = p[1]\n",
    "    c1 = 320+16*p1+0.08*p1**2\n",
    "    c2 = 450 + 9*p2 + 0.18*p2**2\n",
    "    z = c1 + c2\n",
    "    return z\n",
    "\n",
    "#restriccion\n",
    "A = [[1,0],[0,1],[1,1]]\n",
    "lb = [0,0,100]\n",
    "ub = [100,100,100]\n",
    "c = optimize.LinearConstraint(A,lb,ub)\n",
    "\n",
    "res = optimize.minimize(f,[0,0],constraints=c)\n",
    "\n",
    "\n"
   ]
  },
  {
   "cell_type": "code",
   "execution_count": 7,
   "metadata": {},
   "outputs": [
    {
     "data": {
      "text/plain": [
       " message: Optimization terminated successfully\n",
       " success: True\n",
       "  status: 0\n",
       "     fun: 2661.3461538855936\n",
       "       x: [ 5.577e+01  4.423e+01]\n",
       "     nit: 4\n",
       "     jac: [ 2.492e+01  2.492e+01]\n",
       "    nfev: 12\n",
       "    njev: 4"
      ]
     },
     "execution_count": 7,
     "metadata": {},
     "output_type": "execute_result"
    }
   ],
   "source": [
    "res"
   ]
  },
  {
   "cell_type": "code",
   "execution_count": 9,
   "metadata": {},
   "outputs": [
    {
     "data": {
      "text/plain": [
       "(array([5.57696202e+01, 4.42303798e+01, 1.42108547e-14]),\n",
       " array([ 4.42303798e+01,  5.57696202e+01, -1.42108547e-14]))"
      ]
     },
     "execution_count": 9,
     "metadata": {},
     "output_type": "execute_result"
    }
   ],
   "source": [
    "c.residual(res.x)"
   ]
  }
 ],
 "metadata": {
  "kernelspec": {
   "display_name": "Python 3",
   "language": "python",
   "name": "python3"
  },
  "language_info": {
   "codemirror_mode": {
    "name": "ipython",
    "version": 3
   },
   "file_extension": ".py",
   "mimetype": "text/x-python",
   "name": "python",
   "nbconvert_exporter": "python",
   "pygments_lexer": "ipython3",
   "version": "3.11.4"
  }
 },
 "nbformat": 4,
 "nbformat_minor": 2
}
