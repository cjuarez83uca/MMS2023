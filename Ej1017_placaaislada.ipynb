{
 "cells": [
  {
   "cell_type": "code",
   "execution_count": 27,
   "metadata": {},
   "outputs": [],
   "source": [
    "import numpy as np\n",
    "import matplotlib.pyplot as plt\n",
    "# dimensiones de la placa\n",
    "Lx = 10; Ly = 10\n",
    "dx = 1; dy = dx\n",
    "x = np.arange(0,Lx+dx,dx)\n",
    "y = np.arange(0,Ly+dy,dy)\n",
    "\n",
    "T = np.zeros([np.size(y),np.size(x)])+1e-4\n",
    "dTdx = np.zeros([np.size(y),np.size(x)])\n",
    "dTdy = np.zeros([np.size(y),np.size(x)])\n",
    "Tviejo = np.zeros([np.size(y),np.size(x)])\n",
    "# Condiciones de frontera de Dirichlet\n",
    "T[-1]=100\n",
    "T[:,-1] = 75\n",
    "\n",
    "# condiciones de neumann\n",
    "k = 0.5\n",
    "qx0 = 0\n",
    "qy0 = -1\n",
    "dTdx[:,0]=-qx0/k\n",
    "dTdy[0,:]=-qy0/k"
   ]
  },
  {
   "cell_type": "code",
   "execution_count": 28,
   "metadata": {},
   "outputs": [],
   "source": [
    "error = 1\n",
    "while (error > 0.01):\n",
    "    Tviejo[:][:] = T[:][:]\n",
    "    for j in np.arange(0,y.size-1):\n",
    "        for i in np.arange(0,x.size-1):\n",
    "            if i == 0 & j == 0:\n",
    "                T[j][i]= (2*T[j][i+1]-2*dx*dTdx[j][i]+2*T[j+1][i]-2*dy*dTdy[j][i])/4\n",
    "            elif i==0 & j !=0:\n",
    "                T[j][i]= (2*T[j][i+1]-2*dx*dTdx[j][i]+T[j+1][i]+T[j-1][i])/4\n",
    "            elif i!=0 & j == 0:\n",
    "                T[j][i]= (T[j][i+1]+T[j][i-1]+2*T[j+1][i]-2*dy*dTdy[j][i])/4\n",
    "            else:\n",
    "                T[j][i]= (T[j][i+1]+T[j][i-1]+T[j+1][i]+T[j-1][i])/4\n",
    "    \n",
    "    E = np.abs((T-Tviejo)/T)\n",
    "    error = E.max()\n"
   ]
  },
  {
   "cell_type": "code",
   "execution_count": 29,
   "metadata": {},
   "outputs": [
    {
     "data": {
      "text/plain": [
       "array([[ 96.93565497,  97.15481993,  97.16175212,  96.90601288,\n",
       "         96.26191455,  95.02643855,  92.93653176,  89.73467961,\n",
       "         85.31544382,  79.98961425,  75.        ],\n",
       "       [ 99.65909565,  99.69107849,  99.59298769,  99.30185365,\n",
       "         98.68617444,  97.530125  ,  95.5340616 ,  92.36322602,\n",
       "         87.77626158,  81.82277788,  75.        ],\n",
       "       [ 99.87573938,  99.86028947,  99.75803624,  99.50761522,\n",
       "         98.98257924,  97.96491912,  96.12908715,  93.07476488,\n",
       "         88.46076906,  82.25761146,  75.        ],\n",
       "       [ 99.94277097,  99.92360064,  99.84452389,  99.65238261,\n",
       "         99.23316222,  98.3762982 ,  96.73946282,  93.85509276,\n",
       "         89.25551763,  82.78486029,  75.        ],\n",
       "       [ 99.97027777,  99.95652949,  99.90281908,  99.76693117,\n",
       "         99.45253482,  98.76656648,  97.36336357,  94.71275083,\n",
       "         90.19107679,  83.44196379,  75.        ],\n",
       "       [ 99.98506083,  99.97685354,  99.94410183,  99.85629149,\n",
       "         99.63837624,  99.12521105,  97.98708085,  95.64828643,\n",
       "         91.30479781,  84.28838933,  75.        ],\n",
       "       [ 99.99336466,  99.98915556,  99.97164733,  99.92135243,\n",
       "         99.78600547,  99.43769556,  98.58741384,  96.65063387,\n",
       "         92.64125785,  85.42437975,  75.        ],\n",
       "       [ 99.9975803 ,  99.99580702,  99.98804164,  99.96387897,\n",
       "         99.89248717,  99.68868158,  99.13066301,  97.68693191,\n",
       "         94.24500889,  87.02813058,  75.        ],\n",
       "       [ 99.99935388,  99.99880316,  99.99624032,  99.98749355,\n",
       "         99.95869408,  99.86578808,  99.57351928,  98.68602787,\n",
       "         96.13248653,  89.43375673,  75.        ],\n",
       "       [ 99.99990461,  99.99980922,  99.99933228,  99.99751991,\n",
       "         99.99074735,  99.96546948,  99.87113058,  99.51905283,\n",
       "         98.20508076,  93.30127019,  75.        ],\n",
       "       [100.        , 100.        , 100.        , 100.        ,\n",
       "        100.        , 100.        , 100.        , 100.        ,\n",
       "        100.        , 100.        ,  75.        ]])"
      ]
     },
     "execution_count": 29,
     "metadata": {},
     "output_type": "execute_result"
    }
   ],
   "source": [
    "T"
   ]
  },
  {
   "cell_type": "code",
   "execution_count": 30,
   "metadata": {},
   "outputs": [
    {
     "data": {
      "text/plain": [
       "<matplotlib.contour.QuadContourSet at 0x22a04a9d7d0>"
      ]
     },
     "execution_count": 30,
     "metadata": {},
     "output_type": "execute_result"
    },
    {
     "data": {
      "image/png": "[encoded data removed]",
      "text/plain": [
       "<Figure size 640x480 with 1 Axes>"
      ]
     },
     "metadata": {},
     "output_type": "display_data"
    }
   ],
   "source": [
    "X, Y = np.meshgrid(x,y)\n",
    "plt.contourf(X,Y,T)"
   ]
  }
 ],
 "metadata": {
  "kernelspec": {
   "display_name": "Python 3",
   "language": "python",
   "name": "python3"
  },
  "language_info": {
   "codemirror_mode": {
    "name": "ipython",
    "version": 3
   },
   "file_extension": ".py",
   "mimetype": "text/x-python",
   "name": "python",
   "nbconvert_exporter": "python",
   "pygments_lexer": "ipython3",
   "version": "3.11.4"
  }
 },
 "nbformat": 4,
 "nbformat_minor": 2
}
