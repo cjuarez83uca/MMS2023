{
 "cells": [
  {
   "cell_type": "code",
   "execution_count": 31,
   "metadata": {},
   "outputs": [],
   "source": [
    "import numpy as np\n",
    "import matplotlib.pyplot as plt\n",
    "# dimensiones de la placa\n",
    "Lx = 10; Ly = 10\n",
    "dx = 1; dy = dx\n",
    "x = np.arange(0,Lx+dx,dx)\n",
    "y = np.arange(0,Ly+dy,dy)\n",
    "\n",
    "T = np.zeros([np.size(y),np.size(x)])+1e-4\n",
    "dTdx = np.zeros([np.size(y),np.size(x)])\n",
    "dTdy = np.zeros([np.size(y),np.size(x)])\n",
    "Tviejo = np.zeros([np.size(y),np.size(x)])\n",
    "# Condiciones de frontera de Dirichlet\n",
    "T[-1]=100\n",
    "T[:,-1] = 75\n",
    "\n",
    "# condiciones de neumann\n",
    "k = 0.5\n",
    "qx0 = 0\n",
    "qy0 = -10\n",
    "dTdx[:,0]=-qx0/k\n",
    "dTdy[0,:]=-qy0/k"
   ]
  },
  {
   "cell_type": "code",
   "execution_count": 32,
   "metadata": {},
   "outputs": [],
   "source": [
    "error = 1\n",
    "while (error > 0.01):\n",
    "    Tviejo[:][:] = T[:][:]\n",
    "    for j in np.arange(0,y.size-1):\n",
    "        for i in np.arange(0,x.size-1):\n",
    "            if i == 0 & j == 0:\n",
    "                T[j][i]= (2*T[j][i+1]-2*dx*dTdx[j][i]+2*T[j+1][i]-2*dy*dTdy[j][i])/4\n",
    "            elif i==0 & j !=0:\n",
    "                T[j][i]= (2*T[j][i+1]-2*dx*dTdx[j][i]+T[j+1][i]+T[j-1][i])/4\n",
    "            elif i!=0 & j == 0:\n",
    "                T[j][i]= (T[j][i+1]+T[j][i-1]+2*T[j+1][i]-2*dy*dTdy[j][i])/4\n",
    "            else:\n",
    "                T[j][i]= (T[j][i+1]+T[j][i-1]+T[j+1][i]+T[j-1][i])/4\n",
    "    \n",
    "    E = np.abs((T-Tviejo)/T)\n",
    "    error = E.max()\n"
   ]
  },
  {
   "cell_type": "code",
   "execution_count": 33,
   "metadata": {},
   "outputs": [
    {
     "data": {
      "text/plain": [
       "array([[ 79.40702647,  79.48785408,  79.39540701,  79.06692269,\n",
       "         78.37264303,  77.11555269,  75.06615937,  72.10009927,\n",
       "         68.61633054,  66.81547157,  75.        ],\n",
       "       [ 99.78340894,  99.77424389,  99.64804251,  99.33736185,\n",
       "         98.70816133,  97.54301529,  95.5411039 ,  92.36672381,\n",
       "         87.77775995,  81.82324572,  75.        ],\n",
       "       [ 99.90153022,  99.87669193,  99.76833873,  99.5139208 ,\n",
       "         98.98629109,  97.96699366,  96.13017104,  93.07528141,\n",
       "         88.46098203,  82.25767565,  75.        ],\n",
       "       [ 99.9469392 ,  99.92613052,  99.84603782,  99.6532656 ,\n",
       "         99.23365836,  98.37656353,  96.73959586,  93.85515379,\n",
       "         89.25554192,  82.78486737,  75.        ],\n",
       "       [ 99.97079516,  99.95683033,  99.90299129,  99.76702728,\n",
       "         99.45258656,  98.76659306,  97.3633764 ,  94.71275651,\n",
       "         90.19107898,  83.44196441,  75.        ],\n",
       "       [ 99.9851091 ,  99.97688052,  99.94411667,  99.85629944,\n",
       "         99.63838036,  99.12521308,  97.9870818 ,  95.64828684,\n",
       "         91.30479796,  84.28838937,  75.        ],\n",
       "       [ 99.99336793,  99.98915733,  99.97164826,  99.92135292,\n",
       "         99.78600571,  99.43769568,  98.58741389,  96.65063389,\n",
       "         92.64125785,  85.42437976,  75.        ],\n",
       "       [ 99.99758045,  99.9958071 ,  99.98804168,  99.96387899,\n",
       "         99.89248718,  99.68868159,  99.13066301,  97.68693191,\n",
       "         94.24500889,  87.02813058,  75.        ],\n",
       "       [ 99.99935389,  99.99880316,  99.99624032,  99.98749355,\n",
       "         99.95869408,  99.86578808,  99.57351928,  98.68602787,\n",
       "         96.13248653,  89.43375673,  75.        ],\n",
       "       [ 99.99990461,  99.99980922,  99.99933228,  99.99751991,\n",
       "         99.99074735,  99.96546948,  99.87113058,  99.51905283,\n",
       "         98.20508076,  93.30127019,  75.        ],\n",
       "       [100.        , 100.        , 100.        , 100.        ,\n",
       "        100.        , 100.        , 100.        , 100.        ,\n",
       "        100.        , 100.        ,  75.        ]])"
      ]
     },
     "execution_count": 33,
     "metadata": {},
     "output_type": "execute_result"
    }
   ],
   "source": [
    "T"
   ]
  },
  {
   "cell_type": "code",
   "execution_count": 34,
   "metadata": {},
   "outputs": [
    {
     "data": {
      "text/plain": [
       "<matplotlib.contour.QuadContourSet at 0x22a05aa0290>"
      ]
     },
     "execution_count": 34,
     "metadata": {},
     "output_type": "execute_result"
    },
    {
     "data": {
      "image/png": "[encoded data removed]",
      "text/plain": [
       "<Figure size 640x480 with 1 Axes>"
      ]
     },
     "metadata": {},
     "output_type": "display_data"
    }
   ],
   "source": [
    "X, Y = np.meshgrid(x,y)\n",
    "plt.contourf(X,Y,T)"
   ]
  }
 ],
 "metadata": {
  "kernelspec": {
   "display_name": "Python 3",
   "language": "python",
   "name": "python3"
  },
  "language_info": {
   "codemirror_mode": {
    "name": "ipython",
    "version": 3
   },
   "file_extension": ".py",
   "mimetype": "text/x-python",
   "name": "python",
   "nbconvert_exporter": "python",
   "pygments_lexer": "ipython3",
   "version": "3.11.4"
  }
 },
 "nbformat": 4,
 "nbformat_minor": 2
}
